{
 "cells": [
  {
   "cell_type": "code",
   "execution_count": 1,
   "metadata": {
    "id": "48a4d661-c75b-468d-a101-ff63d7539a3b"
   },
   "outputs": [],
   "source": [
    "#!pip install gym\n",
    "#import libraries \n",
    "import gym\n",
    "from sklearn.preprocessing import KBinsDiscretizer\n",
    "import numpy as np\n",
    "import time, math, random\n",
    "from typing import Tuple"
   ]
  },
  {
   "cell_type": "code",
   "execution_count": 2,
   "metadata": {
    "id": "3f7e36e7-b63d-4ff3-8916-f1d812cea0f2"
   },
   "outputs": [],
   "source": [
    "#CartPole-v1 Environment\n",
    "env = gym.make('CartPole-v1')"
   ]
  },
  {
   "cell_type": "code",
   "execution_count": 3,
   "metadata": {
    "colab": {
     "base_uri": "https://localhost:8080/",
     "height": 388
    },
    "id": "383be45e-c613-4012-a1f9-0a3f47057204",
    "outputId": "75ba5417-823b-4bcc-8bb5-1fd0debe2a8d"
   },
   "outputs": [
    {
     "name": "stderr",
     "output_type": "stream",
     "text": [
      "/Users/yousef/opt/anaconda3/lib/python3.8/site-packages/gym/envs/classic_control/cartpole.py:150: UserWarning: \u001b[33mWARN: You are calling 'step()' even though this environment has already returned done = True. You should always call 'reset()' once you receive 'done = True' -- any further steps are undefined behavior.\u001b[0m\n",
      "  logger.warn(\n"
     ]
    }
   ],
   "source": [
    "#!pip install pyglet\n",
    "#Visualise the eniroment or simulation\n",
    "\n",
    "env_policy = lambda obs: 1\n",
    "for _ in range(5):\n",
    "    obs = env.reset()\n",
    "    for _ in range(80):\n",
    "        actions = env_policy(obs)\n",
    "        obs, reward, done, info = env.step(actions) \n",
    "        env.render()\n",
    "        time.sleep(0.05)\n",
    "\n",
    "env.close()"
   ]
  },
  {
   "cell_type": "code",
   "execution_count": 4,
   "metadata": {
    "id": "b7b05885-5355-4755-81c7-92cee81665fa"
   },
   "outputs": [],
   "source": [
    "#Look at the docstring\n",
    "?env.env"
   ]
  },
  {
   "cell_type": "code",
   "execution_count": 5,
   "metadata": {
    "id": "26d150df-279c-442e-b351-bbb7879f9339"
   },
   "outputs": [],
   "source": [
    "#Simple policy function \n",
    "env_policy = lambda _,__,___, tip_velocity : int( tip_velocity > 0 )\n"
   ]
  },
  {
   "cell_type": "code",
   "execution_count": 6,
   "metadata": {
    "id": "046339a5-ae75-461f-a51d-4057b875c9a6"
   },
   "outputs": [],
   "source": [
    "#This is to to convert Catpoles continues state space into discrete one\n",
    "n_buckets = ( 6 , 12 )\n",
    "lower_bounds = [ env.observation_space.low[2], -math.radians(50) ]\n",
    "upper_bounds = [ env.observation_space.high[2], math.radians(50) ]\n",
    "\n",
    "def discretizer_range( _ , __ , angle, pole_velocity ) -> Tuple[int,...]:\n",
    "    \"\"\"Convert continues state intro a discrete state\"\"\"\n",
    "    estimator = KBinsDiscretizer(n_bins=n_buckets, encode='ordinal', strategy='uniform')\n",
    "    estimator.fit([lower_bounds, upper_bounds ])\n",
    "    return tuple(map(int,estimator.transform([[angle, pole_velocity]])[0]))"
   ]
  },
  {
   "cell_type": "code",
   "execution_count": 8,
   "metadata": {
    "id": "e7c9b0ff-7bd3-413c-bfa2-5700cb6d557c"
   },
   "outputs": [
    {
     "data": {
      "text/plain": [
       "(6, 12, 2)"
      ]
     },
     "execution_count": 8,
     "metadata": {},
     "output_type": "execute_result"
    }
   ],
   "source": [
    "#Initialize the Q value table \n",
    "Q_table = np.zeros(n_buckets + (env.action_space.n,))\n",
    "Q_table.shape"
   ]
  },
  {
   "cell_type": "code",
   "execution_count": 9,
   "metadata": {
    "id": "52d85f60-0744-40ba-a21c-d746d2d80f19"
   },
   "outputs": [],
   "source": [
    "#Create a polict function and take the max Q value \n",
    "def env_policy( state : tuple ):\n",
    "    \"\"\"Choosing action based on epsilon-greedy policy\"\"\"\n",
    "    return np.argmax(Q_table[state])"
   ]
  },
  {
   "cell_type": "code",
   "execution_count": 10,
   "metadata": {
    "id": "de211e13-cd33-4dd4-bcd9-c8231ba8d391"
   },
   "outputs": [],
   "source": [
    "#update func\n",
    "def new_Q_value( reward : float ,  new_state : tuple , discount_factor=1 ) -> float:\n",
    "    \"\"\"Temperal diffrence for updating Q-value of state-action pair\"\"\"\n",
    "    future_optimal_value = np.max(Q_table[new_state])\n",
    "    learned_value = reward + discount_factor * future_optimal_value\n",
    "    return learned_value"
   ]
  },
  {
   "cell_type": "code",
   "execution_count": 11,
   "metadata": {
    "id": "520879c3-05a6-4fe5-bd46-4887b3049ebe"
   },
   "outputs": [],
   "source": [
    "# Adaptive learning of Learning Rate\n",
    "def learning_rate(n : int , min_rate=0.01 ) -> float  :\n",
    "    \"\"\"Decaying learning rate\"\"\"\n",
    "    return max(min_rate, min(1.0, 1.0 - math.log10((n + 1) / 25)))"
   ]
  },
  {
   "cell_type": "code",
   "execution_count": 12,
   "metadata": {
    "id": "77fff3a8-6bb0-46b3-8a26-4d7a7923334a"
   },
   "outputs": [],
   "source": [
    "def exploration_rate(n : int, min_rate= 0.1 ) -> float :\n",
    "    \"\"\"Decaying exploration rate\"\"\"\n",
    "    return max(min_rate, min(1, 1.0 - math.log10((n  + 1) / 25)))"
   ]
  },
  {
   "cell_type": "code",
   "execution_count": null,
   "metadata": {
    "id": "6295b49d-0613-4d79-97aa-fec95ac58d15"
   },
   "outputs": [],
   "source": [
    "# Train it\n",
    "num_episodes = 10000\n",
    "for e in range(num_episodes):\n",
    "    \n",
    "    # Siscretize state into buckets\n",
    "    current_state, done = discretizer_range(*env.reset()), False\n",
    "    \n",
    "    while done==False:\n",
    "        \n",
    "        # policy action || exploit\n",
    "        action = np.argmax(Q_table[current_state])\n",
    "        \n",
    "        # insert random action || explore \n",
    "        if np.random.random() < exploration_rate(e) : \n",
    "            action = env.action_space.sample() \n",
    "         \n",
    "        # increment enviroment\n",
    "        obs, reward, done, _ = env.step(action)\n",
    "        new_state = discretizer_range(*obs)\n",
    "        \n",
    "        # Update Q-Table\n",
    "        lr = learning_rate(e)\n",
    "        learnt_value = new_Q_value(reward , new_state )\n",
    "        old_value = Q_table[current_state][action]\n",
    "        Q_table[current_state][action] = (1-lr)*old_value + lr*learnt_value\n",
    "        \n",
    "        current_state = new_state\n",
    "        \n",
    "        # Render the cartpole environment\n",
    "        env.render()"
   ]
  },
  {
   "cell_type": "code",
   "execution_count": null,
   "metadata": {
    "id": "9c1624e5-5c81-4d54-a332-ab60c113ef7c"
   },
   "outputs": [],
   "source": []
  }
 ],
 "metadata": {
  "colab": {
   "name": "BDAA_ICP10.ipynb",
   "provenance": []
  },
  "kernelspec": {
   "display_name": "Python 3",
   "language": "python",
   "name": "python3"
  },
  "language_info": {
   "codemirror_mode": {
    "name": "ipython",
    "version": 3
   },
   "file_extension": ".py",
   "mimetype": "text/x-python",
   "name": "python",
   "nbconvert_exporter": "python",
   "pygments_lexer": "ipython3",
   "version": "3.8.3"
  }
 },
 "nbformat": 4,
 "nbformat_minor": 5
}
